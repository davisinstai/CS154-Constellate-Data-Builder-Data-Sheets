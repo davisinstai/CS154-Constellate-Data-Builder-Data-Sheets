{
 "cells": [
  {
   "cell_type": "markdown",
   "metadata": {},
   "source": [
    "# Data\n",
    "\n",
    "Data is so important to modern AI (including NLP). It's like [this](https://youtu.be/FFrag8ll85w?si=3-R4P8Xnn8zmISSX):\n",
    "<iframe width=\"420\" height=\"315\"\n",
    "src=\"https://youtu.be/FFrag8ll85w?si=3-R4P8Xnn8zmISSX\">\n",
    "</iframe>\n",
    "\n",
    "This week we will:\n",
    "* look at some places you can find datasets for NLP\n",
    "* build a dataset using JSTOR's Constellate data builder\n",
    "* learn how to *document* a dataset\n",
    "\n",
    "Next week (in project 2c) we will take what we did in project 2a using spaCy, plus some new NLP techniques, and apply them to our Constellate data set."
   ]
  },
  {
   "cell_type": "markdown",
   "metadata": {},
   "source": [
    "Questions:\n",
    "\n",
    "1. *Why is data important for NLP? What are two ways it is used in NLP?*"
   ]
  },
  {
   "cell_type": "markdown",
   "metadata": {},
   "source": [
    "# Finding Data for NLP\n",
    "\n",
    "Quite often, we want either **unlabeled** data for NLP in general, or **labeled** data for particular NLP tasks. Here are some places where you can find important NLP data sets:\n",
    "\n",
    "* [Papers With Code](https://paperswithcode.com/area/natural-language-processing)\n",
    "* [Huggingface](https://huggingface.co/datasets)\n",
    "* [Linguistic Data Consortium](https://catalog.ldc.upenn.edu/) or the [European Language Resources Association](http://www.elra.info/en/)"
   ]
  },
  {
   "cell_type": "markdown",
   "metadata": {},
   "source": [
    "Questions:\n",
    "\n",
    "2. *Referring to the papers with code link, and thinking about NLP tasks like Named Entity Recognition or Part of Speech Tagging, or NLP applications like Machine Translation or Sentiment Analysis, what are three data sets historically important to NLP?*\n",
    "3. *What are two things to think about as we collect new data for NLP, or decide whether and how to use an existing data set for NLP?*"
   ]
  },
  {
   "cell_type": "markdown",
   "metadata": {},
   "source": [
    "# Constellate Data Builder\n",
    "\n",
    "Together, we will use the [Constellate dataset builder](https://constellate.org/builder) to build a dataset that has these characteristics:\n",
    "\n",
    "* keywords `\"artificial intelligence\" misinformation`\n",
    "* published between 2007 and 2023\n",
    "* in English\n",
    "* of type article\n",
    "* provided by anyone\n",
    "* category Law, subcategory Computer law\n",
    "* full text downloads available\n",
    "\n",
    "If you do this right, you should end up with a **corpus** of 18 documents.\n"
   ]
  },
  {
   "cell_type": "markdown",
   "metadata": {},
   "source": [
    "Questions:\n",
    "\n",
    "4. *Paste a screenshot of the dataset builder results here*.\n",
    "5. *In the dataset builder, what is one visualization you find useful?*"
   ]
  },
  {
   "cell_type": "markdown",
   "metadata": {},
   "source": [
    "# Documenting Data Sets\n",
    "\n",
    "Be sure to read the paper assigned in Perusall.\n",
    "\n",
    "Complete the data sheet in data_sheet.md with respect to this corpus. To help you, you can find a link to the text in the corpus in Moodle."
   ]
  }
 ],
 "metadata": {
  "kernelspec": {
   "display_name": "Python 3",
   "language": "python",
   "name": "python3"
  },
  "language_info": {
   "codemirror_mode": {
    "name": "ipython",
    "version": 3
   },
   "file_extension": ".py",
   "mimetype": "text/x-python",
   "name": "python",
   "nbconvert_exporter": "python",
   "pygments_lexer": "ipython3",
   "version": "3.10.8"
  },
  "orig_nbformat": 4
 },
 "nbformat": 4,
 "nbformat_minor": 2
}
